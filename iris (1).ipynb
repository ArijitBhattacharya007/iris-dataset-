{
 "cells": [
  {
   "cell_type": "code",
   "execution_count": 88,
   "metadata": {},
   "outputs": [],
   "source": [
    "import pymongo\n",
    "import pandas as pd"
   ]
  },
  {
   "cell_type": "code",
   "execution_count": 89,
   "metadata": {},
   "outputs": [],
   "source": [
    "client = pymongo.MongoClient('mongodb://localhost:27017/')"
   ]
  },
  {
   "cell_type": "code",
   "execution_count": 90,
   "metadata": {},
   "outputs": [],
   "source": [
    "# client.drop_database('testdb')"
   ]
  },
  {
   "cell_type": "code",
   "execution_count": 91,
   "metadata": {},
   "outputs": [],
   "source": [
    "db = client['testdb']"
   ]
  },
  {
   "cell_type": "code",
   "execution_count": 92,
   "metadata": {},
   "outputs": [],
   "source": [
    "collection = db['testcollection']"
   ]
  },
  {
   "cell_type": "code",
   "execution_count": 93,
   "metadata": {},
   "outputs": [],
   "source": [
    "import csv\n",
    "i = 0\n",
    "with open('Iris.csv') as csvfile:\n",
    "    reader = csv.DictReader(csvfile)\n",
    "    if collection.count_documents({}) == 0:\n",
    "        for row in reader :\n",
    "            collection.insert_one(row)"
   ]
  },
  {
   "cell_type": "code",
   "execution_count": 94,
   "metadata": {},
   "outputs": [
    {
     "name": "stdout",
     "output_type": "stream",
     "text": [
      "                          _id   Id SepalLengthCm SepalWidthCm PetalLengthCm  \\\n",
      "0    65eadf63b2b3b208272d8b21    1           5.1          3.5           1.4   \n",
      "1    65eadf63b2b3b208272d8b22    2           4.9          3.0           1.4   \n",
      "2    65eadf63b2b3b208272d8b23    3           4.7          3.2           1.3   \n",
      "3    65eadf63b2b3b208272d8b24    4           4.6          3.1           1.5   \n",
      "4    65eadf63b2b3b208272d8b25    5           5.0          3.6           1.4   \n",
      "..                        ...  ...           ...          ...           ...   \n",
      "145  65eadf63b2b3b208272d8bb2  146           6.7          3.0           5.2   \n",
      "146  65eadf63b2b3b208272d8bb3  147           6.3          2.5           5.0   \n",
      "147  65eadf63b2b3b208272d8bb4  148           6.5          3.0           5.2   \n",
      "148  65eadf63b2b3b208272d8bb5  149           6.2          3.4           5.4   \n",
      "149  65eadf63b2b3b208272d8bb6  150           5.9          3.0           5.1   \n",
      "\n",
      "    PetalWidthCm         Species  \n",
      "0            0.2     Iris-setosa  \n",
      "1            0.2     Iris-setosa  \n",
      "2            0.2     Iris-setosa  \n",
      "3            0.2     Iris-setosa  \n",
      "4            0.2     Iris-setosa  \n",
      "..           ...             ...  \n",
      "145          2.3  Iris-virginica  \n",
      "146          1.9  Iris-virginica  \n",
      "147          2.0  Iris-virginica  \n",
      "148          2.3  Iris-virginica  \n",
      "149          1.8  Iris-virginica  \n",
      "\n",
      "[150 rows x 7 columns]\n"
     ]
    }
   ],
   "source": [
    "data = pd.DataFrame(list(collection.find()))\n",
    "print(data)"
   ]
  },
  {
   "cell_type": "code",
   "execution_count": 95,
   "metadata": {},
   "outputs": [],
   "source": [
    "data = data.drop('_id', axis=1)"
   ]
  },
  {
   "cell_type": "code",
   "execution_count": 96,
   "metadata": {},
   "outputs": [
    {
     "data": {
      "text/plain": [
       "Id               object\n",
       "SepalLengthCm    object\n",
       "SepalWidthCm     object\n",
       "PetalLengthCm    object\n",
       "PetalWidthCm     object\n",
       "Species          object\n",
       "dtype: object"
      ]
     },
     "execution_count": 96,
     "metadata": {},
     "output_type": "execute_result"
    }
   ],
   "source": [
    "data.dtypes"
   ]
  },
  {
   "cell_type": "code",
   "execution_count": 97,
   "metadata": {},
   "outputs": [],
   "source": [
    "data['SepalLengthCm'] = pd.to_numeric(data['SepalLengthCm'])\n",
    "data['SepalWidthCm'] = pd.to_numeric(data['SepalWidthCm'])\n",
    "data['PetalLengthCm'] = pd.to_numeric(data['PetalLengthCm'])\n",
    "data['PetalWidthCm'] = pd.to_numeric(data['PetalWidthCm'])"
   ]
  },
  {
   "cell_type": "code",
   "execution_count": 98,
   "metadata": {},
   "outputs": [
    {
     "data": {
      "text/plain": [
       "Id                object\n",
       "SepalLengthCm    float64\n",
       "SepalWidthCm     float64\n",
       "PetalLengthCm    float64\n",
       "PetalWidthCm     float64\n",
       "Species           object\n",
       "dtype: object"
      ]
     },
     "execution_count": 98,
     "metadata": {},
     "output_type": "execute_result"
    }
   ],
   "source": [
    "data.dtypes"
   ]
  },
  {
   "cell_type": "code",
   "execution_count": 99,
   "metadata": {},
   "outputs": [
    {
     "data": {
      "text/html": [
       "<div>\n",
       "<style scoped>\n",
       "    .dataframe tbody tr th:only-of-type {\n",
       "        vertical-align: middle;\n",
       "    }\n",
       "\n",
       "    .dataframe tbody tr th {\n",
       "        vertical-align: top;\n",
       "    }\n",
       "\n",
       "    .dataframe thead th {\n",
       "        text-align: right;\n",
       "    }\n",
       "</style>\n",
       "<table border=\"1\" class=\"dataframe\">\n",
       "  <thead>\n",
       "    <tr style=\"text-align: right;\">\n",
       "      <th></th>\n",
       "      <th>Id</th>\n",
       "      <th>SepalLengthCm</th>\n",
       "      <th>SepalWidthCm</th>\n",
       "      <th>PetalLengthCm</th>\n",
       "      <th>PetalWidthCm</th>\n",
       "      <th>Species</th>\n",
       "    </tr>\n",
       "  </thead>\n",
       "  <tbody>\n",
       "    <tr>\n",
       "      <th>0</th>\n",
       "      <td>1</td>\n",
       "      <td>5.1</td>\n",
       "      <td>3.5</td>\n",
       "      <td>1.4</td>\n",
       "      <td>0.2</td>\n",
       "      <td>Iris-setosa</td>\n",
       "    </tr>\n",
       "    <tr>\n",
       "      <th>1</th>\n",
       "      <td>2</td>\n",
       "      <td>4.9</td>\n",
       "      <td>3.0</td>\n",
       "      <td>1.4</td>\n",
       "      <td>0.2</td>\n",
       "      <td>Iris-setosa</td>\n",
       "    </tr>\n",
       "    <tr>\n",
       "      <th>2</th>\n",
       "      <td>3</td>\n",
       "      <td>4.7</td>\n",
       "      <td>3.2</td>\n",
       "      <td>1.3</td>\n",
       "      <td>0.2</td>\n",
       "      <td>Iris-setosa</td>\n",
       "    </tr>\n",
       "    <tr>\n",
       "      <th>3</th>\n",
       "      <td>4</td>\n",
       "      <td>4.6</td>\n",
       "      <td>3.1</td>\n",
       "      <td>1.5</td>\n",
       "      <td>0.2</td>\n",
       "      <td>Iris-setosa</td>\n",
       "    </tr>\n",
       "    <tr>\n",
       "      <th>4</th>\n",
       "      <td>5</td>\n",
       "      <td>5.0</td>\n",
       "      <td>3.6</td>\n",
       "      <td>1.4</td>\n",
       "      <td>0.2</td>\n",
       "      <td>Iris-setosa</td>\n",
       "    </tr>\n",
       "  </tbody>\n",
       "</table>\n",
       "</div>"
      ],
      "text/plain": [
       "  Id  SepalLengthCm  SepalWidthCm  PetalLengthCm  PetalWidthCm      Species\n",
       "0  1            5.1           3.5            1.4           0.2  Iris-setosa\n",
       "1  2            4.9           3.0            1.4           0.2  Iris-setosa\n",
       "2  3            4.7           3.2            1.3           0.2  Iris-setosa\n",
       "3  4            4.6           3.1            1.5           0.2  Iris-setosa\n",
       "4  5            5.0           3.6            1.4           0.2  Iris-setosa"
      ]
     },
     "execution_count": 99,
     "metadata": {},
     "output_type": "execute_result"
    }
   ],
   "source": [
    "data.head()"
   ]
  },
  {
   "cell_type": "code",
   "execution_count": 100,
   "metadata": {},
   "outputs": [
    {
     "name": "stdout",
     "output_type": "stream",
     "text": [
      "  Id  SepalLengthCm  SepalWidthCm  PetalLengthCm  PetalWidthCm      Species  \\\n",
      "0  1            5.1           3.5            1.4           0.2  Iris-setosa   \n",
      "1  2            4.9           3.0            1.4           0.2  Iris-setosa   \n",
      "2  3            4.7           3.2            1.3           0.2  Iris-setosa   \n",
      "3  4            4.6           3.1            1.5           0.2  Iris-setosa   \n",
      "4  5            5.0           3.6            1.4           0.2  Iris-setosa   \n",
      "\n",
      "    sum  \n",
      "0  10.0  \n",
      "1   9.3  \n",
      "2   9.2  \n",
      "3   9.2  \n",
      "4  10.0  \n"
     ]
    },
    {
     "name": "stderr",
     "output_type": "stream",
     "text": [
      "/tmp/ipykernel_12017/2071251799.py:1: FutureWarning: Dropping of nuisance columns in DataFrame reductions (with 'numeric_only=None') is deprecated; in a future version this will raise TypeError.  Select only valid columns before calling the reduction.\n",
      "  data['sum'] = data.iloc[:,:4].sum(axis=1)\n"
     ]
    }
   ],
   "source": [
    "data['sum'] = data.iloc[:,:4].sum(axis=1)\n",
    "print(data.head())"
   ]
  },
  {
   "cell_type": "code",
   "execution_count": 101,
   "metadata": {},
   "outputs": [
    {
     "name": "stdout",
     "output_type": "stream",
     "text": [
      "The number of occurences of the species are:  50\n"
     ]
    }
   ],
   "source": [
    "species = input(\"Enter the species: \")\n",
    "print(\"The number of occurences of the species are: \", data[data['Species'] == species].shape[0])"
   ]
  },
  {
   "cell_type": "code",
   "execution_count": 102,
   "metadata": {},
   "outputs": [
    {
     "name": "stdout",
     "output_type": "stream",
     "text": [
      "The maximum value of sepal_length is:  7.9\n",
      "The maximum value of sepal_width is:  4.4\n",
      "The maximum value of petal_length is:  6.9\n",
      "The maximum value of petal_width is:  2.5\n"
     ]
    }
   ],
   "source": [
    "print(\"The maximum value of sepal_length is: \", data['SepalLengthCm'].max())\n",
    "print(\"The maximum value of sepal_width is: \", data['SepalWidthCm'].max())\n",
    "print(\"The maximum value of petal_length is: \", data['PetalLengthCm'].max())\n",
    "print(\"The maximum value of petal_width is: \", data['PetalWidthCm'].max())"
   ]
  },
  {
   "cell_type": "code",
   "execution_count": 103,
   "metadata": {},
   "outputs": [
    {
     "name": "stdout",
     "output_type": "stream",
     "text": [
      "The minimum value of sepal_length is:  4.3\n",
      "The minimum value of petal_width is:  0.1\n"
     ]
    }
   ],
   "source": [
    "print(\"The minimum value of sepal_length is: \", data['SepalLengthCm'].min())\n",
    "print(\"The minimum value of petal_width is: \", data['PetalWidthCm'].min())"
   ]
  },
  {
   "cell_type": "code",
   "execution_count": 104,
   "metadata": {},
   "outputs": [
    {
     "name": "stdout",
     "output_type": "stream",
     "text": [
      "The mean value of petal_length is:  3.758666666666666\n"
     ]
    }
   ],
   "source": [
    "print(\"The mean value of petal_length is: \", data['PetalLengthCm'].mean())"
   ]
  },
  {
   "cell_type": "code",
   "execution_count": null,
   "metadata": {},
   "outputs": [],
   "source": []
  }
 ],
 "metadata": {
  "kernelspec": {
   "display_name": "Python 3",
   "language": "python",
   "name": "python3"
  },
  "language_info": {
   "codemirror_mode": {
    "name": "ipython",
    "version": 3
   },
   "file_extension": ".py",
   "mimetype": "text/x-python",
   "name": "python",
   "nbconvert_exporter": "python",
   "pygments_lexer": "ipython3",
   "version": "3.11.8"
  }
 },
 "nbformat": 4,
 "nbformat_minor": 2
}
