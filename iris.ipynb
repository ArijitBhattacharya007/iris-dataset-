{
 "cells": [
  {
   "cell_type": "code",
   "execution_count": 135,
   "metadata": {},
   "outputs": [],
   "source": [
    "import pymongo\n",
    "import pandas as pd"
   ]
  },
  {
   "cell_type": "code",
   "execution_count": 136,
   "metadata": {},
   "outputs": [],
   "source": [
    "client = pymongo.MongoClient('mongodb://localhost:27017/')"
   ]
  },
  {
   "cell_type": "code",
   "execution_count": 137,
   "metadata": {},
   "outputs": [],
   "source": [
    "client.drop_database('testdb')"
   ]
  },
  {
   "cell_type": "code",
   "execution_count": 138,
   "metadata": {},
   "outputs": [],
   "source": [
    "db = client['testdb']"
   ]
  },
  {
   "cell_type": "code",
   "execution_count": 139,
   "metadata": {},
   "outputs": [],
   "source": [
    "collection = db['testcollection']"
   ]
  },
  {
   "cell_type": "code",
   "execution_count": 140,
   "metadata": {},
   "outputs": [],
   "source": [
    "import csv\n",
    "with open('iris.csv') as csvfile:\n",
    "    reader = csv.DictReader(csvfile)\n",
    "    for row in reader:\n",
    "        collection.insert_one(row)"
   ]
  },
  {
   "cell_type": "code",
   "execution_count": 141,
   "metadata": {},
   "outputs": [
    {
     "name": "stdout",
     "output_type": "stream",
     "text": [
      "                        _id Id SepalLengthCm SepalWidthCm PetalLengthCm  \\\n",
      "0  65e8c4cfab1661a369ad28d8  1           5.1          3.5           1.4   \n",
      "1  65e8c4cfab1661a369ad28d9  2           4.9          3.0           1.4   \n",
      "2  65e8c4cfab1661a369ad28da  3           4.7          3.2           1.3   \n",
      "3  65e8c4cfab1661a369ad28db  4           4.6          3.1           1.5   \n",
      "4  65e8c4cfab1661a369ad28dc  5           5.0          3.6           1.4   \n",
      "\n",
      "  PetalWidthCm      Species  \n",
      "0          0.2  Iris-setosa  \n",
      "1          0.2  Iris-setosa  \n",
      "2          0.2  Iris-setosa  \n",
      "3          0.2  Iris-setosa  \n",
      "4          0.2  Iris-setosa  \n"
     ]
    }
   ],
   "source": [
    "data = pd.DataFrame(list(collection.find()))\n",
    "print(data.head())"
   ]
  },
  {
   "cell_type": "code",
   "execution_count": 142,
   "metadata": {},
   "outputs": [],
   "source": [
    "data = data.drop('_id', axis=1)"
   ]
  },
  {
   "cell_type": "code",
   "execution_count": 143,
   "metadata": {},
   "outputs": [
    {
     "data": {
      "text/plain": [
       "Id               object\n",
       "SepalLengthCm    object\n",
       "SepalWidthCm     object\n",
       "PetalLengthCm    object\n",
       "PetalWidthCm     object\n",
       "Species          object\n",
       "dtype: object"
      ]
     },
     "execution_count": 143,
     "metadata": {},
     "output_type": "execute_result"
    }
   ],
   "source": [
    "data.dtypes"
   ]
  },
  {
   "cell_type": "code",
   "execution_count": 144,
   "metadata": {},
   "outputs": [],
   "source": [
    "data['Id'] = pd.to_numeric(data['Id'])\n",
    "data['SepalLengthCm'] = pd.to_numeric(data['SepalLengthCm'])\n",
    "data['SepalWidthCm'] = pd.to_numeric(data['SepalWidthCm'])\n",
    "data['PetalLengthCm'] = pd.to_numeric(data['PetalLengthCm'])\n",
    "data['PetalWidthCm'] = pd.to_numeric(data['PetalWidthCm'])"
   ]
  },
  {
   "cell_type": "code",
   "execution_count": 149,
   "metadata": {},
   "outputs": [],
   "source": [
    "data = data.drop('Id', axis=1)"
   ]
  },
  {
   "cell_type": "code",
   "execution_count": 150,
   "metadata": {},
   "outputs": [
    {
     "data": {
      "text/plain": [
       "SepalLengthCm    float64\n",
       "SepalWidthCm     float64\n",
       "PetalLengthCm    float64\n",
       "PetalWidthCm     float64\n",
       "Species           object\n",
       "sum              float64\n",
       "dtype: object"
      ]
     },
     "execution_count": 150,
     "metadata": {},
     "output_type": "execute_result"
    }
   ],
   "source": [
    "data.dtypes"
   ]
  },
  {
   "cell_type": "code",
   "execution_count": 151,
   "metadata": {},
   "outputs": [
    {
     "data": {
      "text/html": [
       "<div>\n",
       "<style scoped>\n",
       "    .dataframe tbody tr th:only-of-type {\n",
       "        vertical-align: middle;\n",
       "    }\n",
       "\n",
       "    .dataframe tbody tr th {\n",
       "        vertical-align: top;\n",
       "    }\n",
       "\n",
       "    .dataframe thead th {\n",
       "        text-align: right;\n",
       "    }\n",
       "</style>\n",
       "<table border=\"1\" class=\"dataframe\">\n",
       "  <thead>\n",
       "    <tr style=\"text-align: right;\">\n",
       "      <th></th>\n",
       "      <th>SepalLengthCm</th>\n",
       "      <th>SepalWidthCm</th>\n",
       "      <th>PetalLengthCm</th>\n",
       "      <th>PetalWidthCm</th>\n",
       "      <th>Species</th>\n",
       "      <th>sum</th>\n",
       "    </tr>\n",
       "  </thead>\n",
       "  <tbody>\n",
       "    <tr>\n",
       "      <th>0</th>\n",
       "      <td>5.1</td>\n",
       "      <td>3.5</td>\n",
       "      <td>1.4</td>\n",
       "      <td>0.2</td>\n",
       "      <td>Iris-setosa</td>\n",
       "      <td>10.2</td>\n",
       "    </tr>\n",
       "    <tr>\n",
       "      <th>1</th>\n",
       "      <td>4.9</td>\n",
       "      <td>3.0</td>\n",
       "      <td>1.4</td>\n",
       "      <td>0.2</td>\n",
       "      <td>Iris-setosa</td>\n",
       "      <td>9.5</td>\n",
       "    </tr>\n",
       "    <tr>\n",
       "      <th>2</th>\n",
       "      <td>4.7</td>\n",
       "      <td>3.2</td>\n",
       "      <td>1.3</td>\n",
       "      <td>0.2</td>\n",
       "      <td>Iris-setosa</td>\n",
       "      <td>9.4</td>\n",
       "    </tr>\n",
       "    <tr>\n",
       "      <th>3</th>\n",
       "      <td>4.6</td>\n",
       "      <td>3.1</td>\n",
       "      <td>1.5</td>\n",
       "      <td>0.2</td>\n",
       "      <td>Iris-setosa</td>\n",
       "      <td>9.4</td>\n",
       "    </tr>\n",
       "    <tr>\n",
       "      <th>4</th>\n",
       "      <td>5.0</td>\n",
       "      <td>3.6</td>\n",
       "      <td>1.4</td>\n",
       "      <td>0.2</td>\n",
       "      <td>Iris-setosa</td>\n",
       "      <td>10.2</td>\n",
       "    </tr>\n",
       "  </tbody>\n",
       "</table>\n",
       "</div>"
      ],
      "text/plain": [
       "   SepalLengthCm  SepalWidthCm  PetalLengthCm  PetalWidthCm      Species   sum\n",
       "0            5.1           3.5            1.4           0.2  Iris-setosa  10.2\n",
       "1            4.9           3.0            1.4           0.2  Iris-setosa   9.5\n",
       "2            4.7           3.2            1.3           0.2  Iris-setosa   9.4\n",
       "3            4.6           3.1            1.5           0.2  Iris-setosa   9.4\n",
       "4            5.0           3.6            1.4           0.2  Iris-setosa  10.2"
      ]
     },
     "execution_count": 151,
     "metadata": {},
     "output_type": "execute_result"
    }
   ],
   "source": [
    "data.head()"
   ]
  },
  {
   "cell_type": "code",
   "execution_count": 157,
   "metadata": {},
   "outputs": [
    {
     "name": "stdout",
     "output_type": "stream",
     "text": [
      "   SepalLengthCm  SepalWidthCm  PetalLengthCm  PetalWidthCm      Species   sum\n",
      "0            5.1           3.5            1.4           0.2  Iris-setosa  10.2\n",
      "1            4.9           3.0            1.4           0.2  Iris-setosa   9.5\n",
      "2            4.7           3.2            1.3           0.2  Iris-setosa   9.4\n",
      "3            4.6           3.1            1.5           0.2  Iris-setosa   9.4\n",
      "4            5.0           3.6            1.4           0.2  Iris-setosa  10.2\n"
     ]
    }
   ],
   "source": [
    "data['sum'] = data.iloc[:, 0:4].sum(axis=1)\n",
    "print(data.head())"
   ]
  },
  {
   "cell_type": "code",
   "execution_count": 158,
   "metadata": {},
   "outputs": [
    {
     "data": {
      "text/plain": [
       "array(['Iris-setosa', 'Iris-versicolor', 'Iris-virginica'], dtype=object)"
      ]
     },
     "execution_count": 158,
     "metadata": {},
     "output_type": "execute_result"
    }
   ],
   "source": [
    "data['Species'].unique()"
   ]
  },
  {
   "cell_type": "code",
   "execution_count": 160,
   "metadata": {},
   "outputs": [
    {
     "name": "stdout",
     "output_type": "stream",
     "text": [
      "Iris-virginica\n"
     ]
    }
   ],
   "source": [
    "def predict_species():\n",
    "    sepal_length = float(input('Enter sepal length: '))\n",
    "    sepal_width = float(input('Enter sepal width: '))\n",
    "    petal_length = float(input('Enter petal length: '))\n",
    "    petal_width = float(input('Enter petal width: '))\n",
    "    sum = sepal_length + sepal_width + petal_length + petal_width\n",
    "    if sum < 7.9:\n",
    "        print('Iris-setosa')\n",
    "    elif sum < 8.9:\n",
    "        print('Iris-versicolor')\n",
    "    else:\n",
    "        print('Iris-virginica')\n",
    "\n",
    "predict_species()"
   ]
  },
  {
   "cell_type": "code",
   "execution_count": null,
   "metadata": {},
   "outputs": [],
   "source": []
  }
 ],
 "metadata": {
  "kernelspec": {
   "display_name": "Python 3",
   "language": "python",
   "name": "python3"
  },
  "language_info": {
   "codemirror_mode": {
    "name": "ipython",
    "version": 3
   },
   "file_extension": ".py",
   "mimetype": "text/x-python",
   "name": "python",
   "nbconvert_exporter": "python",
   "pygments_lexer": "ipython3",
   "version": "3.12.2"
  }
 },
 "nbformat": 4,
 "nbformat_minor": 2
}
